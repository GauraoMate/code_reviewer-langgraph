{
 "cells": [
  {
   "cell_type": "code",
   "execution_count": 20,
   "metadata": {},
   "outputs": [
    {
     "data": {
      "text/plain": [
       "AIMessage(content='Hello! How can I assist you today?', additional_kwargs={}, response_metadata={'token_usage': {'completion_tokens': 10, 'prompt_tokens': 30, 'total_tokens': 40, 'completion_time': 0.05, 'prompt_time': 0.003670319, 'queue_time': 0.233998177, 'total_time': 0.053670319}, 'model_name': 'qwen-2.5-32b', 'system_fingerprint': 'fp_35f92f8282', 'finish_reason': 'stop', 'logprobs': None}, id='run-e7a6c76a-4bd6-4b98-b72b-7702d1fa8f62-0', usage_metadata={'input_tokens': 30, 'output_tokens': 10, 'total_tokens': 40})"
      ]
     },
     "execution_count": 20,
     "metadata": {},
     "output_type": "execute_result"
    }
   ],
   "source": [
    "from dotenv import load_dotenv\n",
    "import os\n",
    "from langgraph.graph import StateGraph, START, END\n",
    "from IPython.display import Image, display\n",
    "from typing_extensions import TypedDict\n",
    "\n",
    "load_dotenv()\n",
    "from langchain_groq import  ChatGroq\n",
    "os.environ[\"GROQ_API_KEY\"] = os.getenv(\"GROQ_API_KEY\")\n",
    "\n",
    "llm=ChatGroq(model=\"qwen-2.5-32b\")\n",
    "result=llm.invoke(\"Hello\")\n",
    "result"
   ]
  },
  {
   "cell_type": "code",
   "execution_count": 21,
   "metadata": {},
   "outputs": [],
   "source": [
    "# Graph state\n",
    "class State(TypedDict):\n",
    "    description: str\n",
    "    coder: str\n",
    "    peer_reviewer: str\n",
    "    check_score: str\n",
    "    Summary: str"
   ]
  },
  {
   "cell_type": "code",
   "execution_count": 22,
   "metadata": {},
   "outputs": [],
   "source": [
    "def developer(state: State):\n",
    "    \"\"\"First LLM call to generate initial code\"\"\"\n",
    "\n",
    "    if 'per_reviewer' in state and state['peer_reviewer'] :\n",
    "        msg = llm.invoke(f\"Rewrite the Python code based on the original requirements: {state['description']} and addressing the feedback from: {state['peer_reviewer']} \")\n",
    "    else:\n",
    "        msg = llm.invoke(f\"Write a python code based on the {state['description']}\")\n",
    "    return {\"coder\": msg.content}"
   ]
  },
  {
   "cell_type": "code",
   "execution_count": 23,
   "metadata": {},
   "outputs": [],
   "source": [
    "def code_reviewer(state: State):\n",
    "    \"\"\"LLM call to review the code\"\"\"\n",
    "\n",
    "    msg = llm.invoke(f\"Review the code for correctness and performance:\\n{state['coder']}\\n\"\n",
    "    f\"Provide brief, specific feedback. End with PASS or FAIL classification.\")\n",
    "    \n",
    "    return {\"peer_reviewer\": msg.content}\n"
   ]
  },
  {
   "cell_type": "code",
   "execution_count": 24,
   "metadata": {},
   "outputs": [],
   "source": [
    "def check_review(state:State):\n",
    "    \"Extract PASS/FAIL decision from reviewer\"\n",
    "\n",
    "    if \"PASS\" in state['peer_reviewer']:\n",
    "        return \"PASS\"\n",
    "    return 'FAIL'"
   ]
  },
  {
   "cell_type": "code",
   "execution_count": 25,
   "metadata": {},
   "outputs": [],
   "source": [
    "def summary_gen(state: State):\n",
    "    \"Based on review decision it should generate the report\"\n",
    "    s1 = llm.invoke(f\"Based on provided review {state['peer_reviewer']} create a summary report in markdown format\")\n",
    "    \n",
    "    return {'summary':s1.content}"
   ]
  },
  {
   "cell_type": "code",
   "execution_count": 26,
   "metadata": {},
   "outputs": [],
   "source": [
    "test_flow = StateGraph(State)\n",
    "#add node\n",
    "test_flow.add_node(\"developer\",developer)\n",
    "test_flow.add_node(\"code_reviewer\", code_reviewer)\n",
    "test_flow.add_node(\"summary_gen\",summary_gen)\n",
    "\n",
    "#add edge\n",
    "test_flow.add_edge(START,\"developer\")\n",
    "test_flow.add_edge(\"developer\",\"code_reviewer\")\n",
    "test_flow.add_conditional_edges(\n",
    "    \"code_reviewer\",\n",
    "    check_review,\n",
    "    {\"PASS\":\"summary_gen\",\"FAIL\":\"developer\"}\n",
    ")\n",
    "test_flow.add_edge(\"summary_gen\",END)\n",
    "\n",
    "graph = test_flow.compile()"
   ]
  },
  {
   "cell_type": "code",
   "execution_count": 27,
   "metadata": {},
   "outputs": [
    {
     "data": {
      "image/png": "[encoded data removed]",
      "text/plain": [
       "<IPython.core.display.Image object>"
      ]
     },
     "metadata": {},
     "output_type": "display_data"
    }
   ],
   "source": [
    "from IPython.display import display,Image\n",
    "\n",
    "display(Image(graph.get_graph().draw_mermaid_png()))"
   ]
  },
  {
   "cell_type": "code",
   "execution_count": 28,
   "metadata": {},
   "outputs": [
    {
     "data": {
      "text/plain": [
       "{'description': 'generate a code to check if a string is palindrome ',\n",
       " 'coder': 'Certainly! Below is a simple Python code snippet that checks if a given string is a palindrome. A palindrome is a word, phrase, or sequence that reads the same backward as forward, ignoring spaces, punctuation, and capitalization.\\n\\n```python\\ndef is_palindrome(s):\\n    # Normalize the string by removing non-alphanumeric characters and converting to lower case\\n    s = \\'\\'.join(c.lower() for c in s if c.isalnum())\\n    \\n    # Check if the string is equal to its reverse\\n    return s == s[::-1]\\n\\n# Example usage\\ntest_strings = [\"Madam, I\\'m Adam\", \"A Toyota! Race fast, safe car!\", \"Not a palindrome\"]\\nfor test in test_strings:\\n    print(f\"\\'{test}\\' -> {is_palindrome(test)}\")\\n```\\n\\nThis code defines a function `is_palindrome` which takes a string `s` as input. The function first cleans the string by removing any non-alphanumeric characters and converting it to lowercase. Then, it checks if the cleaned string is equal to its reverse. If the string is the same when read forwards and backwards, it is a palindrome, and the function returns `True`; otherwise, it returns `False`.\\n\\nThe example usage demonstrates testing the function with a few different strings, including palindromes and a non-palindrome, to verify the function\\'s correctness.',\n",
       " 'peer_reviewer': \"The provided code correctly checks whether a given string is a palindrome by first normalizing the string to ignore case and non-alphanumeric characters and then comparing the string to its reverse. Here are a few points regarding the code:\\n\\n1. **Normalization**: The normalization step, which involves converting the string to lower case and removing non-alphanumeric characters, is essential for correctly identifying palindromes. The code effectively accomplishes this with a generator expression inside the `join` function.\\n   \\n2. **Performance**: The code uses string slicing (`s[::-1]`) to reverse the string. This operation is efficient in Python, creating a reversed copy of the string. However, for very long strings, you might consider an approach that avoids creating an additional reversed copy of the string. One alternative is to compare the string forward and backward without explicitly reversing it, which could be more memory-efficient.\\n\\n3. **Edge Cases**: The function handles empty strings correctly, returning `True` as an empty string is considered a palindrome. However, it's worth noting that the function will also return `True` for strings that only contain non-alphanumeric characters, which may or may not be desirable depending on the use case.\\n\\n4. **Code Clarity**: The code is clear and concise, making it easy to understand the logic behind checking for a palindrome.\\n\\n**Classification: PASS**\\n\\nThe code is correct and functional for the given purpose. Minor adjustments could be made for performance optimization for very large strings, but as it stands, it serves its purpose well.\"}"
      ]
     },
     "execution_count": 28,
     "metadata": {},
     "output_type": "execute_result"
    }
   ],
   "source": [
    "res = graph.invoke({\"description\":\"generate a code to check if a string is palindrome \"},{'recursion_limit':100})\n",
    "res"
   ]
  }
 ],
 "metadata": {
  "kernelspec": {
   "display_name": "Python 3",
   "language": "python",
   "name": "python3"
  },
  "language_info": {
   "codemirror_mode": {
    "name": "ipython",
    "version": 3
   },
   "file_extension": ".py",
   "mimetype": "text/x-python",
   "name": "python",
   "nbconvert_exporter": "python",
   "pygments_lexer": "ipython3",
   "version": "3.12.8"
  }
 },
 "nbformat": 4,
 "nbformat_minor": 2
}
